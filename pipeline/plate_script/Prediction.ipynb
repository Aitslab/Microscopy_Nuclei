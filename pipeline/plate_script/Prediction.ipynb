{
 "cells": [
  {
   "cell_type": "code",
   "execution_count": 1,
   "id": "ba9b7cb5",
   "metadata": {},
   "outputs": [
    {
     "name": "stderr",
     "output_type": "stream",
     "text": [
      "Using TensorFlow backend.\n"
     ]
    },
    {
     "name": "stdout",
     "output_type": "stream",
     "text": [
      "['MFGTMPcx7_170702000001_G14f03d0.png', 'MFGTMPcx7_170702090001_B22f15d0.png', 'MFGTMPcx7_170702090001_C08f14d0.png', 'MFGTMPcx7_170702090001_H04f01d0.png', 'MFGTMPcx7_170702090001_P07f14d0.png', 'MFGTMPcx7_170731090001_B14f09d0.png', 'MFGTMPcx7_170731090001_D11f13d0.png', 'MFGTMPcx7_170731090001_I12f05d0.png', 'MFGTMPcx7_170801050001_G02f01d0.png', 'MFGTMPcx7_170803210001_J12f29d0.png']\n",
      "Default GPU Device:/device:GPU:0\n",
      "imaaaaaaaaaaaaaaaaageeeeeeeeeeeeeeeeeeeeeeeeees done\n",
      "WARNING:tensorflow:From C:\\Users\\salma\\.conda\\envs\\TF_1\\lib\\site-packages\\tensorflow\\python\\framework\\op_def_library.py:263: colocate_with (from tensorflow.python.framework.ops) is deprecated and will be removed in a future version.\n",
      "Instructions for updating:\n",
      "Colocations handled automatically by placer.\n"
     ]
    },
    {
     "name": "stderr",
     "output_type": "stream",
     "text": [
      "C:\\Users\\salma\\OneDrive - Lund University\\Segmentation_UNET_HoverNET\\Test_code_gpu\\plate_script\\utils\\model_builder.py:20: UserWarning: Update your `Conv2D` call to the Keras 2 API: `Conv2D(64, (3, 3), activation=\"relu\", padding=\"same\")`\n",
      "  a = keras.layers.Convolution2D(64, 3, 3, **option_dict_conv)(x)\n",
      "C:\\Users\\salma\\OneDrive - Lund University\\Segmentation_UNET_HoverNET\\Test_code_gpu\\plate_script\\utils\\model_builder.py:21: UserWarning: Update your `BatchNormalization` call to the Keras 2 API: `BatchNormalization(momentum=0.9)`\n",
      "  a = keras.layers.BatchNormalization(**option_dict_bn)(a)\n",
      "C:\\Users\\salma\\OneDrive - Lund University\\Segmentation_UNET_HoverNET\\Test_code_gpu\\plate_script\\utils\\model_builder.py:23: UserWarning: Update your `Conv2D` call to the Keras 2 API: `Conv2D(64, (3, 3), activation=\"relu\", padding=\"same\")`\n",
      "  a = keras.layers.Convolution2D(64, 3, 3, **option_dict_conv)(a)\n",
      "C:\\Users\\salma\\OneDrive - Lund University\\Segmentation_UNET_HoverNET\\Test_code_gpu\\plate_script\\utils\\model_builder.py:24: UserWarning: Update your `BatchNormalization` call to the Keras 2 API: `BatchNormalization(momentum=0.9)`\n",
      "  a = keras.layers.BatchNormalization(**option_dict_bn)(a)\n",
      "C:\\Users\\salma\\OneDrive - Lund University\\Segmentation_UNET_HoverNET\\Test_code_gpu\\plate_script\\utils\\model_builder.py:29: UserWarning: Update your `Conv2D` call to the Keras 2 API: `Conv2D(128, (3, 3), activation=\"relu\", padding=\"same\")`\n",
      "  b = keras.layers.Convolution2D(128, 3, 3, **option_dict_conv)(y)\n",
      "C:\\Users\\salma\\OneDrive - Lund University\\Segmentation_UNET_HoverNET\\Test_code_gpu\\plate_script\\utils\\model_builder.py:30: UserWarning: Update your `BatchNormalization` call to the Keras 2 API: `BatchNormalization(momentum=0.9)`\n",
      "  b = keras.layers.BatchNormalization(**option_dict_bn)(b)\n",
      "C:\\Users\\salma\\OneDrive - Lund University\\Segmentation_UNET_HoverNET\\Test_code_gpu\\plate_script\\utils\\model_builder.py:32: UserWarning: Update your `Conv2D` call to the Keras 2 API: `Conv2D(128, (3, 3), activation=\"relu\", padding=\"same\")`\n",
      "  b = keras.layers.Convolution2D(128, 3, 3, **option_dict_conv)(b)\n",
      "C:\\Users\\salma\\OneDrive - Lund University\\Segmentation_UNET_HoverNET\\Test_code_gpu\\plate_script\\utils\\model_builder.py:33: UserWarning: Update your `BatchNormalization` call to the Keras 2 API: `BatchNormalization(momentum=0.9)`\n",
      "  b = keras.layers.BatchNormalization(**option_dict_bn)(b)\n",
      "C:\\Users\\salma\\OneDrive - Lund University\\Segmentation_UNET_HoverNET\\Test_code_gpu\\plate_script\\utils\\model_builder.py:38: UserWarning: Update your `Conv2D` call to the Keras 2 API: `Conv2D(256, (3, 3), activation=\"relu\", padding=\"same\")`\n",
      "  c = keras.layers.Convolution2D(256, 3, 3, **option_dict_conv)(y)\n",
      "C:\\Users\\salma\\OneDrive - Lund University\\Segmentation_UNET_HoverNET\\Test_code_gpu\\plate_script\\utils\\model_builder.py:39: UserWarning: Update your `BatchNormalization` call to the Keras 2 API: `BatchNormalization(momentum=0.9)`\n",
      "  c = keras.layers.BatchNormalization(**option_dict_bn)(c)\n",
      "C:\\Users\\salma\\OneDrive - Lund University\\Segmentation_UNET_HoverNET\\Test_code_gpu\\plate_script\\utils\\model_builder.py:41: UserWarning: Update your `Conv2D` call to the Keras 2 API: `Conv2D(256, (3, 3), activation=\"relu\", padding=\"same\")`\n",
      "  c = keras.layers.Convolution2D(256, 3, 3, **option_dict_conv)(c)\n",
      "C:\\Users\\salma\\OneDrive - Lund University\\Segmentation_UNET_HoverNET\\Test_code_gpu\\plate_script\\utils\\model_builder.py:42: UserWarning: Update your `BatchNormalization` call to the Keras 2 API: `BatchNormalization(momentum=0.9)`\n",
      "  c = keras.layers.BatchNormalization(**option_dict_bn)(c)\n",
      "C:\\Users\\salma\\OneDrive - Lund University\\Segmentation_UNET_HoverNET\\Test_code_gpu\\plate_script\\utils\\model_builder.py:47: UserWarning: Update your `Conv2D` call to the Keras 2 API: `Conv2D(512, (3, 3), activation=\"relu\", padding=\"same\")`\n",
      "  d = keras.layers.Convolution2D(512, 3, 3, **option_dict_conv)(y)\n",
      "C:\\Users\\salma\\OneDrive - Lund University\\Segmentation_UNET_HoverNET\\Test_code_gpu\\plate_script\\utils\\model_builder.py:48: UserWarning: Update your `BatchNormalization` call to the Keras 2 API: `BatchNormalization(momentum=0.9)`\n",
      "  d = keras.layers.BatchNormalization(**option_dict_bn)(d)\n",
      "C:\\Users\\salma\\OneDrive - Lund University\\Segmentation_UNET_HoverNET\\Test_code_gpu\\plate_script\\utils\\model_builder.py:50: UserWarning: Update your `Conv2D` call to the Keras 2 API: `Conv2D(512, (3, 3), activation=\"relu\", padding=\"same\")`\n",
      "  d = keras.layers.Convolution2D(512, 3, 3, **option_dict_conv)(d)\n",
      "C:\\Users\\salma\\OneDrive - Lund University\\Segmentation_UNET_HoverNET\\Test_code_gpu\\plate_script\\utils\\model_builder.py:51: UserWarning: Update your `BatchNormalization` call to the Keras 2 API: `BatchNormalization(momentum=0.9)`\n",
      "  d = keras.layers.BatchNormalization(**option_dict_bn)(d)\n",
      "C:\\Users\\salma\\OneDrive - Lund University\\Segmentation_UNET_HoverNET\\Test_code_gpu\\plate_script\\utils\\model_builder.py:60: UserWarning: Update your `Conv2D` call to the Keras 2 API: `Conv2D(256, (3, 3), activation=\"relu\", padding=\"same\")`\n",
      "  e = keras.layers.Convolution2D(256, 3, 3, **option_dict_conv)(y)\n",
      "C:\\Users\\salma\\OneDrive - Lund University\\Segmentation_UNET_HoverNET\\Test_code_gpu\\plate_script\\utils\\model_builder.py:61: UserWarning: Update your `BatchNormalization` call to the Keras 2 API: `BatchNormalization(momentum=0.9)`\n",
      "  e = keras.layers.BatchNormalization(**option_dict_bn)(e)\n",
      "C:\\Users\\salma\\OneDrive - Lund University\\Segmentation_UNET_HoverNET\\Test_code_gpu\\plate_script\\utils\\model_builder.py:63: UserWarning: Update your `Conv2D` call to the Keras 2 API: `Conv2D(256, (3, 3), activation=\"relu\", padding=\"same\")`\n",
      "  e = keras.layers.Convolution2D(256, 3, 3, **option_dict_conv)(e)\n",
      "C:\\Users\\salma\\OneDrive - Lund University\\Segmentation_UNET_HoverNET\\Test_code_gpu\\plate_script\\utils\\model_builder.py:64: UserWarning: Update your `BatchNormalization` call to the Keras 2 API: `BatchNormalization(momentum=0.9)`\n",
      "  e = keras.layers.BatchNormalization(**option_dict_bn)(e)\n",
      "C:\\Users\\salma\\OneDrive - Lund University\\Segmentation_UNET_HoverNET\\Test_code_gpu\\plate_script\\utils\\model_builder.py:71: UserWarning: Update your `Conv2D` call to the Keras 2 API: `Conv2D(128, (3, 3), activation=\"relu\", padding=\"same\")`\n",
      "  f = keras.layers.Convolution2D(128, 3, 3, **option_dict_conv)(y)\n",
      "C:\\Users\\salma\\OneDrive - Lund University\\Segmentation_UNET_HoverNET\\Test_code_gpu\\plate_script\\utils\\model_builder.py:72: UserWarning: Update your `BatchNormalization` call to the Keras 2 API: `BatchNormalization(momentum=0.9)`\n",
      "  f = keras.layers.BatchNormalization(**option_dict_bn)(f)\n",
      "C:\\Users\\salma\\OneDrive - Lund University\\Segmentation_UNET_HoverNET\\Test_code_gpu\\plate_script\\utils\\model_builder.py:74: UserWarning: Update your `Conv2D` call to the Keras 2 API: `Conv2D(128, (3, 3), activation=\"relu\", padding=\"same\")`\n",
      "  f = keras.layers.Convolution2D(128, 3, 3, **option_dict_conv)(f)\n",
      "C:\\Users\\salma\\OneDrive - Lund University\\Segmentation_UNET_HoverNET\\Test_code_gpu\\plate_script\\utils\\model_builder.py:75: UserWarning: Update your `BatchNormalization` call to the Keras 2 API: `BatchNormalization(momentum=0.9)`\n",
      "  f = keras.layers.BatchNormalization(**option_dict_bn)(f)\n",
      "C:\\Users\\salma\\OneDrive - Lund University\\Segmentation_UNET_HoverNET\\Test_code_gpu\\plate_script\\utils\\model_builder.py:82: UserWarning: Update your `Conv2D` call to the Keras 2 API: `Conv2D(64, (3, 3), activation=\"relu\", padding=\"same\")`\n",
      "  y = keras.layers.Convolution2D(64, 3, 3, **option_dict_conv)(y)\n",
      "C:\\Users\\salma\\OneDrive - Lund University\\Segmentation_UNET_HoverNET\\Test_code_gpu\\plate_script\\utils\\model_builder.py:83: UserWarning: Update your `BatchNormalization` call to the Keras 2 API: `BatchNormalization(momentum=0.9)`\n",
      "  y = keras.layers.BatchNormalization(**option_dict_bn)(y)\n",
      "C:\\Users\\salma\\OneDrive - Lund University\\Segmentation_UNET_HoverNET\\Test_code_gpu\\plate_script\\utils\\model_builder.py:85: UserWarning: Update your `Conv2D` call to the Keras 2 API: `Conv2D(64, (3, 3), activation=\"relu\", padding=\"same\")`\n",
      "  y = keras.layers.Convolution2D(64, 3, 3, **option_dict_conv)(y)\n",
      "C:\\Users\\salma\\OneDrive - Lund University\\Segmentation_UNET_HoverNET\\Test_code_gpu\\plate_script\\utils\\model_builder.py:86: UserWarning: Update your `BatchNormalization` call to the Keras 2 API: `BatchNormalization(momentum=0.9)`\n",
      "  y = keras.layers.BatchNormalization(**option_dict_bn)(y)\n",
      "C:\\Users\\salma\\OneDrive - Lund University\\Segmentation_UNET_HoverNET\\Test_code_gpu\\plate_script\\utils\\model_builder.py:171: UserWarning: Update your `Conv2D` call to the Keras 2 API: `Conv2D(3, (1, 1), activation=\"relu\", padding=\"same\")`\n",
      "  y  = keras.layers.Convolution2D(3,1,1,**option_dict_conv)(y)\n"
     ]
    },
    {
     "name": "stdout",
     "output_type": "stream",
     "text": [
      "after predicctionnnnnnnnnnnnnnnnnnnnnn\n",
      "MFGTMPcx7_170521130001_A04f12d0.png\n"
     ]
    },
    {
     "name": "stderr",
     "output_type": "stream",
     "text": [
      "C:\\Users\\salma\\.conda\\envs\\TF_1\\lib\\site-packages\\skimage\\util\\dtype.py:141: UserWarning: Possible precision loss when converting from float64 to uint8\n",
      "  .format(dtypeobj_in, dtypeobj_out))\n",
      "C:\\Users\\salma\\.conda\\envs\\TF_1\\lib\\site-packages\\skimage\\io\\_io.py:140: UserWarning: ./MFGTMPcx7_170521130001/out/segm/MFGTMPcx7_170521130001_A04f12d0.png is a low contrast image\n",
      "  warn('%s is a low contrast image' % fname)\n"
     ]
    },
    {
     "name": "stdout",
     "output_type": "stream",
     "text": [
      "MFGTMPcx7_170521130001_A05f04d0.png\n"
     ]
    },
    {
     "name": "stderr",
     "output_type": "stream",
     "text": [
      "C:\\Users\\salma\\.conda\\envs\\TF_1\\lib\\site-packages\\skimage\\io\\_io.py:140: UserWarning: ./MFGTMPcx7_170521130001/out/segm/MFGTMPcx7_170521130001_A05f04d0.png is a low contrast image\n",
      "  warn('%s is a low contrast image' % fname)\n"
     ]
    },
    {
     "name": "stdout",
     "output_type": "stream",
     "text": [
      "MFGTMPcx7_170521130001_A05f06d0.png\n"
     ]
    },
    {
     "name": "stderr",
     "output_type": "stream",
     "text": [
      "C:\\Users\\salma\\.conda\\envs\\TF_1\\lib\\site-packages\\skimage\\io\\_io.py:140: UserWarning: ./MFGTMPcx7_170521130001/out/segm/MFGTMPcx7_170521130001_A05f06d0.png is a low contrast image\n",
      "  warn('%s is a low contrast image' % fname)\n"
     ]
    },
    {
     "name": "stdout",
     "output_type": "stream",
     "text": [
      "MFGTMPcx7_170521130001_A08f12d0.png\n"
     ]
    },
    {
     "name": "stderr",
     "output_type": "stream",
     "text": [
      "C:\\Users\\salma\\.conda\\envs\\TF_1\\lib\\site-packages\\skimage\\io\\_io.py:140: UserWarning: ./MFGTMPcx7_170521130001/out/segm/MFGTMPcx7_170521130001_A08f12d0.png is a low contrast image\n",
      "  warn('%s is a low contrast image' % fname)\n"
     ]
    },
    {
     "name": "stdout",
     "output_type": "stream",
     "text": [
      "MFGTMPcx7_170521130001_A09f14d0.png\n"
     ]
    },
    {
     "name": "stderr",
     "output_type": "stream",
     "text": [
      "C:\\Users\\salma\\.conda\\envs\\TF_1\\lib\\site-packages\\skimage\\io\\_io.py:140: UserWarning: ./MFGTMPcx7_170521130001/out/segm/MFGTMPcx7_170521130001_A09f14d0.png is a low contrast image\n",
      "  warn('%s is a low contrast image' % fname)\n"
     ]
    },
    {
     "name": "stdout",
     "output_type": "stream",
     "text": [
      "MFGTMPcx7_170521130001_A10f12d0.png\n"
     ]
    },
    {
     "name": "stderr",
     "output_type": "stream",
     "text": [
      "C:\\Users\\salma\\.conda\\envs\\TF_1\\lib\\site-packages\\skimage\\io\\_io.py:140: UserWarning: ./MFGTMPcx7_170521130001/out/segm/MFGTMPcx7_170521130001_A10f12d0.png is a low contrast image\n",
      "  warn('%s is a low contrast image' % fname)\n"
     ]
    },
    {
     "name": "stdout",
     "output_type": "stream",
     "text": [
      "MFGTMPcx7_170521130001_A14f15d0.png\n"
     ]
    },
    {
     "name": "stderr",
     "output_type": "stream",
     "text": [
      "C:\\Users\\salma\\.conda\\envs\\TF_1\\lib\\site-packages\\skimage\\io\\_io.py:140: UserWarning: ./MFGTMPcx7_170521130001/out/segm/MFGTMPcx7_170521130001_A14f15d0.png is a low contrast image\n",
      "  warn('%s is a low contrast image' % fname)\n"
     ]
    },
    {
     "name": "stdout",
     "output_type": "stream",
     "text": [
      "MFGTMPcx7_170521130001_A21f04d0.png\n"
     ]
    },
    {
     "name": "stderr",
     "output_type": "stream",
     "text": [
      "C:\\Users\\salma\\.conda\\envs\\TF_1\\lib\\site-packages\\skimage\\io\\_io.py:140: UserWarning: ./MFGTMPcx7_170521130001/out/segm/MFGTMPcx7_170521130001_A21f04d0.png is a low contrast image\n",
      "  warn('%s is a low contrast image' % fname)\n"
     ]
    },
    {
     "name": "stdout",
     "output_type": "stream",
     "text": [
      "MFGTMPcx7_170521130001_B01f05d0.png\n"
     ]
    },
    {
     "name": "stderr",
     "output_type": "stream",
     "text": [
      "C:\\Users\\salma\\.conda\\envs\\TF_1\\lib\\site-packages\\skimage\\io\\_io.py:140: UserWarning: ./MFGTMPcx7_170521130001/out/segm/MFGTMPcx7_170521130001_B01f05d0.png is a low contrast image\n",
      "  warn('%s is a low contrast image' % fname)\n"
     ]
    },
    {
     "name": "stdout",
     "output_type": "stream",
     "text": [
      "MFGTMPcx7_170521130001_B13f08d0.png\n"
     ]
    },
    {
     "name": "stderr",
     "output_type": "stream",
     "text": [
      "C:\\Users\\salma\\.conda\\envs\\TF_1\\lib\\site-packages\\skimage\\io\\_io.py:140: UserWarning: ./MFGTMPcx7_170521130001/out/segm/MFGTMPcx7_170521130001_B13f08d0.png is a low contrast image\n",
      "  warn('%s is a low contrast image' % fname)\n"
     ]
    },
    {
     "name": "stdout",
     "output_type": "stream",
     "text": [
      "MFGTMPcx7_170521130001_B14f04d0.png\n"
     ]
    },
    {
     "name": "stderr",
     "output_type": "stream",
     "text": [
      "C:\\Users\\salma\\.conda\\envs\\TF_1\\lib\\site-packages\\skimage\\io\\_io.py:140: UserWarning: ./MFGTMPcx7_170521130001/out/segm/MFGTMPcx7_170521130001_B14f04d0.png is a low contrast image\n",
      "  warn('%s is a low contrast image' % fname)\n"
     ]
    },
    {
     "name": "stdout",
     "output_type": "stream",
     "text": [
      "MFGTMPcx7_170521130001_B15f09d0.png\n"
     ]
    },
    {
     "name": "stderr",
     "output_type": "stream",
     "text": [
      "C:\\Users\\salma\\.conda\\envs\\TF_1\\lib\\site-packages\\skimage\\io\\_io.py:140: UserWarning: ./MFGTMPcx7_170521130001/out/segm/MFGTMPcx7_170521130001_B15f09d0.png is a low contrast image\n",
      "  warn('%s is a low contrast image' % fname)\n"
     ]
    },
    {
     "name": "stdout",
     "output_type": "stream",
     "text": [
      "MFGTMPcx7_170521130001_B23f02d0.png\n"
     ]
    },
    {
     "name": "stderr",
     "output_type": "stream",
     "text": [
      "C:\\Users\\salma\\.conda\\envs\\TF_1\\lib\\site-packages\\skimage\\io\\_io.py:140: UserWarning: ./MFGTMPcx7_170521130001/out/segm/MFGTMPcx7_170521130001_B23f02d0.png is a low contrast image\n",
      "  warn('%s is a low contrast image' % fname)\n"
     ]
    },
    {
     "name": "stdout",
     "output_type": "stream",
     "text": [
      "MFGTMPcx7_170521130001_C01f14d0.png\n"
     ]
    },
    {
     "name": "stderr",
     "output_type": "stream",
     "text": [
      "C:\\Users\\salma\\.conda\\envs\\TF_1\\lib\\site-packages\\skimage\\io\\_io.py:140: UserWarning: ./MFGTMPcx7_170521130001/out/segm/MFGTMPcx7_170521130001_C01f14d0.png is a low contrast image\n",
      "  warn('%s is a low contrast image' % fname)\n"
     ]
    },
    {
     "name": "stdout",
     "output_type": "stream",
     "text": [
      "MFGTMPcx7_170521130001_C02f14d0.png\n"
     ]
    },
    {
     "name": "stderr",
     "output_type": "stream",
     "text": [
      "C:\\Users\\salma\\.conda\\envs\\TF_1\\lib\\site-packages\\skimage\\io\\_io.py:140: UserWarning: ./MFGTMPcx7_170521130001/out/segm/MFGTMPcx7_170521130001_C02f14d0.png is a low contrast image\n",
      "  warn('%s is a low contrast image' % fname)\n"
     ]
    },
    {
     "name": "stdout",
     "output_type": "stream",
     "text": [
      "MFGTMPcx7_170521130001_C05f15d0.png\n"
     ]
    },
    {
     "name": "stderr",
     "output_type": "stream",
     "text": [
      "C:\\Users\\salma\\.conda\\envs\\TF_1\\lib\\site-packages\\skimage\\io\\_io.py:140: UserWarning: ./MFGTMPcx7_170521130001/out/segm/MFGTMPcx7_170521130001_C05f15d0.png is a low contrast image\n",
      "  warn('%s is a low contrast image' % fname)\n"
     ]
    },
    {
     "name": "stdout",
     "output_type": "stream",
     "text": [
      "MFGTMPcx7_170521130001_C08f11d0.png\n"
     ]
    },
    {
     "name": "stderr",
     "output_type": "stream",
     "text": [
      "C:\\Users\\salma\\.conda\\envs\\TF_1\\lib\\site-packages\\skimage\\io\\_io.py:140: UserWarning: ./MFGTMPcx7_170521130001/out/segm/MFGTMPcx7_170521130001_C08f11d0.png is a low contrast image\n",
      "  warn('%s is a low contrast image' % fname)\n"
     ]
    },
    {
     "name": "stdout",
     "output_type": "stream",
     "text": [
      "MFGTMPcx7_170521130001_C16f13d0.png\n"
     ]
    },
    {
     "name": "stderr",
     "output_type": "stream",
     "text": [
      "C:\\Users\\salma\\.conda\\envs\\TF_1\\lib\\site-packages\\skimage\\io\\_io.py:140: UserWarning: ./MFGTMPcx7_170521130001/out/segm/MFGTMPcx7_170521130001_C16f13d0.png is a low contrast image\n",
      "  warn('%s is a low contrast image' % fname)\n"
     ]
    },
    {
     "name": "stdout",
     "output_type": "stream",
     "text": [
      "MFGTMPcx7_170521130001_C19f12d0.png\n"
     ]
    },
    {
     "name": "stderr",
     "output_type": "stream",
     "text": [
      "C:\\Users\\salma\\.conda\\envs\\TF_1\\lib\\site-packages\\skimage\\io\\_io.py:140: UserWarning: ./MFGTMPcx7_170521130001/out/segm/MFGTMPcx7_170521130001_C19f12d0.png is a low contrast image\n",
      "  warn('%s is a low contrast image' % fname)\n"
     ]
    },
    {
     "name": "stdout",
     "output_type": "stream",
     "text": [
      "MFGTMPcx7_170521130001_C24f10d0.png\n"
     ]
    },
    {
     "name": "stderr",
     "output_type": "stream",
     "text": [
      "C:\\Users\\salma\\.conda\\envs\\TF_1\\lib\\site-packages\\skimage\\io\\_io.py:140: UserWarning: ./MFGTMPcx7_170521130001/out/segm/MFGTMPcx7_170521130001_C24f10d0.png is a low contrast image\n",
      "  warn('%s is a low contrast image' % fname)\n"
     ]
    },
    {
     "name": "stdout",
     "output_type": "stream",
     "text": [
      "MFGTMPcx7_170521130001_D07f05d0.png\n"
     ]
    },
    {
     "name": "stderr",
     "output_type": "stream",
     "text": [
      "C:\\Users\\salma\\.conda\\envs\\TF_1\\lib\\site-packages\\skimage\\io\\_io.py:140: UserWarning: ./MFGTMPcx7_170521130001/out/segm/MFGTMPcx7_170521130001_D07f05d0.png is a low contrast image\n",
      "  warn('%s is a low contrast image' % fname)\n"
     ]
    },
    {
     "name": "stdout",
     "output_type": "stream",
     "text": [
      "MFGTMPcx7_170521130001_D15f00d0.png\n"
     ]
    },
    {
     "name": "stderr",
     "output_type": "stream",
     "text": [
      "C:\\Users\\salma\\.conda\\envs\\TF_1\\lib\\site-packages\\skimage\\io\\_io.py:140: UserWarning: ./MFGTMPcx7_170521130001/out/segm/MFGTMPcx7_170521130001_D15f00d0.png is a low contrast image\n",
      "  warn('%s is a low contrast image' % fname)\n"
     ]
    },
    {
     "name": "stdout",
     "output_type": "stream",
     "text": [
      "MFGTMPcx7_170521130001_D20f14d0.png\n"
     ]
    },
    {
     "name": "stderr",
     "output_type": "stream",
     "text": [
      "C:\\Users\\salma\\.conda\\envs\\TF_1\\lib\\site-packages\\skimage\\io\\_io.py:140: UserWarning: ./MFGTMPcx7_170521130001/out/segm/MFGTMPcx7_170521130001_D20f14d0.png is a low contrast image\n",
      "  warn('%s is a low contrast image' % fname)\n"
     ]
    },
    {
     "name": "stdout",
     "output_type": "stream",
     "text": [
      "MFGTMPcx7_170521130001_D22f12d0.png\n"
     ]
    },
    {
     "name": "stderr",
     "output_type": "stream",
     "text": [
      "C:\\Users\\salma\\.conda\\envs\\TF_1\\lib\\site-packages\\skimage\\io\\_io.py:140: UserWarning: ./MFGTMPcx7_170521130001/out/segm/MFGTMPcx7_170521130001_D22f12d0.png is a low contrast image\n",
      "  warn('%s is a low contrast image' % fname)\n"
     ]
    },
    {
     "name": "stdout",
     "output_type": "stream",
     "text": [
      "MFGTMPcx7_170521130001_D23f11d0.png\n"
     ]
    },
    {
     "name": "stderr",
     "output_type": "stream",
     "text": [
      "C:\\Users\\salma\\.conda\\envs\\TF_1\\lib\\site-packages\\skimage\\io\\_io.py:140: UserWarning: ./MFGTMPcx7_170521130001/out/segm/MFGTMPcx7_170521130001_D23f11d0.png is a low contrast image\n",
      "  warn('%s is a low contrast image' % fname)\n"
     ]
    },
    {
     "name": "stdout",
     "output_type": "stream",
     "text": [
      "MFGTMPcx7_170521130001_E01f14d0.png\n"
     ]
    },
    {
     "name": "stderr",
     "output_type": "stream",
     "text": [
      "C:\\Users\\salma\\.conda\\envs\\TF_1\\lib\\site-packages\\skimage\\io\\_io.py:140: UserWarning: ./MFGTMPcx7_170521130001/out/segm/MFGTMPcx7_170521130001_E01f14d0.png is a low contrast image\n",
      "  warn('%s is a low contrast image' % fname)\n"
     ]
    },
    {
     "name": "stdout",
     "output_type": "stream",
     "text": [
      "MFGTMPcx7_170521130001_E05f12d0.png\n"
     ]
    },
    {
     "name": "stderr",
     "output_type": "stream",
     "text": [
      "C:\\Users\\salma\\.conda\\envs\\TF_1\\lib\\site-packages\\skimage\\io\\_io.py:140: UserWarning: ./MFGTMPcx7_170521130001/out/segm/MFGTMPcx7_170521130001_E05f12d0.png is a low contrast image\n",
      "  warn('%s is a low contrast image' % fname)\n"
     ]
    },
    {
     "name": "stdout",
     "output_type": "stream",
     "text": [
      "MFGTMPcx7_170521130001_E05f15d0.png\n"
     ]
    },
    {
     "name": "stderr",
     "output_type": "stream",
     "text": [
      "C:\\Users\\salma\\.conda\\envs\\TF_1\\lib\\site-packages\\skimage\\io\\_io.py:140: UserWarning: ./MFGTMPcx7_170521130001/out/segm/MFGTMPcx7_170521130001_E05f15d0.png is a low contrast image\n",
      "  warn('%s is a low contrast image' % fname)\n"
     ]
    },
    {
     "name": "stdout",
     "output_type": "stream",
     "text": [
      "MFGTMPcx7_170521130001_E06f09d0.png\n"
     ]
    },
    {
     "name": "stderr",
     "output_type": "stream",
     "text": [
      "C:\\Users\\salma\\.conda\\envs\\TF_1\\lib\\site-packages\\skimage\\io\\_io.py:140: UserWarning: ./MFGTMPcx7_170521130001/out/segm/MFGTMPcx7_170521130001_E06f09d0.png is a low contrast image\n",
      "  warn('%s is a low contrast image' % fname)\n"
     ]
    },
    {
     "name": "stdout",
     "output_type": "stream",
     "text": [
      "MFGTMPcx7_170521130001_E07f02d0.png\n"
     ]
    },
    {
     "name": "stderr",
     "output_type": "stream",
     "text": [
      "C:\\Users\\salma\\.conda\\envs\\TF_1\\lib\\site-packages\\skimage\\io\\_io.py:140: UserWarning: ./MFGTMPcx7_170521130001/out/segm/MFGTMPcx7_170521130001_E07f02d0.png is a low contrast image\n",
      "  warn('%s is a low contrast image' % fname)\n"
     ]
    },
    {
     "name": "stdout",
     "output_type": "stream",
     "text": [
      "MFGTMPcx7_170521130001_E09f07d0.png\n"
     ]
    },
    {
     "name": "stderr",
     "output_type": "stream",
     "text": [
      "C:\\Users\\salma\\.conda\\envs\\TF_1\\lib\\site-packages\\skimage\\io\\_io.py:140: UserWarning: ./MFGTMPcx7_170521130001/out/segm/MFGTMPcx7_170521130001_E09f07d0.png is a low contrast image\n",
      "  warn('%s is a low contrast image' % fname)\n"
     ]
    },
    {
     "name": "stdout",
     "output_type": "stream",
     "text": [
      "MFGTMPcx7_170521130001_E14f01d0.png\n"
     ]
    },
    {
     "name": "stderr",
     "output_type": "stream",
     "text": [
      "C:\\Users\\salma\\.conda\\envs\\TF_1\\lib\\site-packages\\skimage\\io\\_io.py:140: UserWarning: ./MFGTMPcx7_170521130001/out/segm/MFGTMPcx7_170521130001_E14f01d0.png is a low contrast image\n",
      "  warn('%s is a low contrast image' % fname)\n"
     ]
    },
    {
     "name": "stdout",
     "output_type": "stream",
     "text": [
      "MFGTMPcx7_170521130001_E15f02d0.png\n"
     ]
    },
    {
     "name": "stderr",
     "output_type": "stream",
     "text": [
      "C:\\Users\\salma\\.conda\\envs\\TF_1\\lib\\site-packages\\skimage\\io\\_io.py:140: UserWarning: ./MFGTMPcx7_170521130001/out/segm/MFGTMPcx7_170521130001_E15f02d0.png is a low contrast image\n",
      "  warn('%s is a low contrast image' % fname)\n"
     ]
    },
    {
     "name": "stdout",
     "output_type": "stream",
     "text": [
      "MFGTMPcx7_170521130001_E15f03d0.png\n"
     ]
    },
    {
     "name": "stderr",
     "output_type": "stream",
     "text": [
      "C:\\Users\\salma\\.conda\\envs\\TF_1\\lib\\site-packages\\skimage\\io\\_io.py:140: UserWarning: ./MFGTMPcx7_170521130001/out/segm/MFGTMPcx7_170521130001_E15f03d0.png is a low contrast image\n",
      "  warn('%s is a low contrast image' % fname)\n"
     ]
    },
    {
     "name": "stdout",
     "output_type": "stream",
     "text": [
      "MFGTMPcx7_170521130001_E15f10d0.png\n"
     ]
    },
    {
     "name": "stderr",
     "output_type": "stream",
     "text": [
      "C:\\Users\\salma\\.conda\\envs\\TF_1\\lib\\site-packages\\skimage\\io\\_io.py:140: UserWarning: ./MFGTMPcx7_170521130001/out/segm/MFGTMPcx7_170521130001_E15f10d0.png is a low contrast image\n",
      "  warn('%s is a low contrast image' % fname)\n"
     ]
    },
    {
     "name": "stdout",
     "output_type": "stream",
     "text": [
      "MFGTMPcx7_170521130001_E17f01d0.png\n"
     ]
    },
    {
     "name": "stderr",
     "output_type": "stream",
     "text": [
      "C:\\Users\\salma\\.conda\\envs\\TF_1\\lib\\site-packages\\skimage\\io\\_io.py:140: UserWarning: ./MFGTMPcx7_170521130001/out/segm/MFGTMPcx7_170521130001_E17f01d0.png is a low contrast image\n",
      "  warn('%s is a low contrast image' % fname)\n"
     ]
    },
    {
     "name": "stdout",
     "output_type": "stream",
     "text": [
      "MFGTMPcx7_170521130001_E21f02d0.png\n"
     ]
    },
    {
     "name": "stderr",
     "output_type": "stream",
     "text": [
      "C:\\Users\\salma\\.conda\\envs\\TF_1\\lib\\site-packages\\skimage\\io\\_io.py:140: UserWarning: ./MFGTMPcx7_170521130001/out/segm/MFGTMPcx7_170521130001_E21f02d0.png is a low contrast image\n",
      "  warn('%s is a low contrast image' % fname)\n"
     ]
    },
    {
     "name": "stdout",
     "output_type": "stream",
     "text": [
      "MFGTMPcx7_170521130001_F04f02d0.png\n"
     ]
    },
    {
     "name": "stderr",
     "output_type": "stream",
     "text": [
      "C:\\Users\\salma\\.conda\\envs\\TF_1\\lib\\site-packages\\skimage\\io\\_io.py:140: UserWarning: ./MFGTMPcx7_170521130001/out/segm/MFGTMPcx7_170521130001_F04f02d0.png is a low contrast image\n",
      "  warn('%s is a low contrast image' % fname)\n"
     ]
    },
    {
     "name": "stdout",
     "output_type": "stream",
     "text": [
      "MFGTMPcx7_170521130001_F06f00d0.png\n"
     ]
    },
    {
     "name": "stderr",
     "output_type": "stream",
     "text": [
      "C:\\Users\\salma\\.conda\\envs\\TF_1\\lib\\site-packages\\skimage\\io\\_io.py:140: UserWarning: ./MFGTMPcx7_170521130001/out/segm/MFGTMPcx7_170521130001_F06f00d0.png is a low contrast image\n",
      "  warn('%s is a low contrast image' % fname)\n"
     ]
    },
    {
     "name": "stdout",
     "output_type": "stream",
     "text": [
      "MFGTMPcx7_170521130001_F07f09d0.png\n"
     ]
    },
    {
     "name": "stderr",
     "output_type": "stream",
     "text": [
      "C:\\Users\\salma\\.conda\\envs\\TF_1\\lib\\site-packages\\skimage\\io\\_io.py:140: UserWarning: ./MFGTMPcx7_170521130001/out/segm/MFGTMPcx7_170521130001_F07f09d0.png is a low contrast image\n",
      "  warn('%s is a low contrast image' % fname)\n"
     ]
    },
    {
     "name": "stdout",
     "output_type": "stream",
     "text": [
      "MFGTMPcx7_170521130001_F10f04d0.png\n"
     ]
    },
    {
     "name": "stderr",
     "output_type": "stream",
     "text": [
      "C:\\Users\\salma\\.conda\\envs\\TF_1\\lib\\site-packages\\skimage\\io\\_io.py:140: UserWarning: ./MFGTMPcx7_170521130001/out/segm/MFGTMPcx7_170521130001_F10f04d0.png is a low contrast image\n",
      "  warn('%s is a low contrast image' % fname)\n"
     ]
    },
    {
     "name": "stdout",
     "output_type": "stream",
     "text": [
      "MFGTMPcx7_170521130001_F10f15d0.png\n"
     ]
    },
    {
     "name": "stderr",
     "output_type": "stream",
     "text": [
      "C:\\Users\\salma\\.conda\\envs\\TF_1\\lib\\site-packages\\skimage\\io\\_io.py:140: UserWarning: ./MFGTMPcx7_170521130001/out/segm/MFGTMPcx7_170521130001_F10f15d0.png is a low contrast image\n",
      "  warn('%s is a low contrast image' % fname)\n"
     ]
    },
    {
     "name": "stdout",
     "output_type": "stream",
     "text": [
      "MFGTMPcx7_170521130001_F16f02d0.png\n"
     ]
    },
    {
     "name": "stderr",
     "output_type": "stream",
     "text": [
      "C:\\Users\\salma\\.conda\\envs\\TF_1\\lib\\site-packages\\skimage\\io\\_io.py:140: UserWarning: ./MFGTMPcx7_170521130001/out/segm/MFGTMPcx7_170521130001_F16f02d0.png is a low contrast image\n",
      "  warn('%s is a low contrast image' % fname)\n"
     ]
    },
    {
     "name": "stdout",
     "output_type": "stream",
     "text": [
      "MFGTMPcx7_170521130001_F17f05d0.png\n"
     ]
    },
    {
     "name": "stderr",
     "output_type": "stream",
     "text": [
      "C:\\Users\\salma\\.conda\\envs\\TF_1\\lib\\site-packages\\skimage\\io\\_io.py:140: UserWarning: ./MFGTMPcx7_170521130001/out/segm/MFGTMPcx7_170521130001_F17f05d0.png is a low contrast image\n",
      "  warn('%s is a low contrast image' % fname)\n"
     ]
    },
    {
     "name": "stdout",
     "output_type": "stream",
     "text": [
      "MFGTMPcx7_170521130001_F19f09d0.png\n"
     ]
    },
    {
     "name": "stderr",
     "output_type": "stream",
     "text": [
      "C:\\Users\\salma\\.conda\\envs\\TF_1\\lib\\site-packages\\skimage\\io\\_io.py:140: UserWarning: ./MFGTMPcx7_170521130001/out/segm/MFGTMPcx7_170521130001_F19f09d0.png is a low contrast image\n",
      "  warn('%s is a low contrast image' % fname)\n"
     ]
    },
    {
     "name": "stdout",
     "output_type": "stream",
     "text": [
      "MFGTMPcx7_170521130001_G04f01d0.png\n"
     ]
    },
    {
     "name": "stderr",
     "output_type": "stream",
     "text": [
      "C:\\Users\\salma\\.conda\\envs\\TF_1\\lib\\site-packages\\skimage\\io\\_io.py:140: UserWarning: ./MFGTMPcx7_170521130001/out/segm/MFGTMPcx7_170521130001_G04f01d0.png is a low contrast image\n",
      "  warn('%s is a low contrast image' % fname)\n"
     ]
    },
    {
     "name": "stdout",
     "output_type": "stream",
     "text": [
      "MFGTMPcx7_170521130001_G08f00d0.png\n"
     ]
    },
    {
     "name": "stderr",
     "output_type": "stream",
     "text": [
      "C:\\Users\\salma\\.conda\\envs\\TF_1\\lib\\site-packages\\skimage\\io\\_io.py:140: UserWarning: ./MFGTMPcx7_170521130001/out/segm/MFGTMPcx7_170521130001_G08f00d0.png is a low contrast image\n",
      "  warn('%s is a low contrast image' % fname)\n"
     ]
    },
    {
     "name": "stdout",
     "output_type": "stream",
     "text": [
      "MFGTMPcx7_170521130001_G14f08d0.png\n"
     ]
    },
    {
     "name": "stderr",
     "output_type": "stream",
     "text": [
      "C:\\Users\\salma\\.conda\\envs\\TF_1\\lib\\site-packages\\skimage\\io\\_io.py:140: UserWarning: ./MFGTMPcx7_170521130001/out/segm/MFGTMPcx7_170521130001_G14f08d0.png is a low contrast image\n",
      "  warn('%s is a low contrast image' % fname)\n"
     ]
    },
    {
     "name": "stdout",
     "output_type": "stream",
     "text": [
      "MFGTMPcx7_170521130001_G23f02d0.png\n"
     ]
    },
    {
     "name": "stderr",
     "output_type": "stream",
     "text": [
      "C:\\Users\\salma\\.conda\\envs\\TF_1\\lib\\site-packages\\skimage\\io\\_io.py:140: UserWarning: ./MFGTMPcx7_170521130001/out/segm/MFGTMPcx7_170521130001_G23f02d0.png is a low contrast image\n",
      "  warn('%s is a low contrast image' % fname)\n"
     ]
    },
    {
     "name": "stdout",
     "output_type": "stream",
     "text": [
      "MFGTMPcx7_170521130001_G24f08d0.png\n"
     ]
    },
    {
     "name": "stderr",
     "output_type": "stream",
     "text": [
      "C:\\Users\\salma\\.conda\\envs\\TF_1\\lib\\site-packages\\skimage\\io\\_io.py:140: UserWarning: ./MFGTMPcx7_170521130001/out/segm/MFGTMPcx7_170521130001_G24f08d0.png is a low contrast image\n",
      "  warn('%s is a low contrast image' % fname)\n"
     ]
    },
    {
     "name": "stdout",
     "output_type": "stream",
     "text": [
      "MFGTMPcx7_170521130001_H01f07d0.png\n"
     ]
    },
    {
     "name": "stderr",
     "output_type": "stream",
     "text": [
      "C:\\Users\\salma\\.conda\\envs\\TF_1\\lib\\site-packages\\skimage\\io\\_io.py:140: UserWarning: ./MFGTMPcx7_170521130001/out/segm/MFGTMPcx7_170521130001_H01f07d0.png is a low contrast image\n",
      "  warn('%s is a low contrast image' % fname)\n"
     ]
    },
    {
     "name": "stdout",
     "output_type": "stream",
     "text": [
      "MFGTMPcx7_170521130001_H09f05d0.png\n"
     ]
    },
    {
     "name": "stderr",
     "output_type": "stream",
     "text": [
      "C:\\Users\\salma\\.conda\\envs\\TF_1\\lib\\site-packages\\skimage\\io\\_io.py:140: UserWarning: ./MFGTMPcx7_170521130001/out/segm/MFGTMPcx7_170521130001_H09f05d0.png is a low contrast image\n",
      "  warn('%s is a low contrast image' % fname)\n"
     ]
    },
    {
     "name": "stdout",
     "output_type": "stream",
     "text": [
      "MFGTMPcx7_170521130001_H13f03d0.png\n"
     ]
    },
    {
     "name": "stderr",
     "output_type": "stream",
     "text": [
      "C:\\Users\\salma\\.conda\\envs\\TF_1\\lib\\site-packages\\skimage\\io\\_io.py:140: UserWarning: ./MFGTMPcx7_170521130001/out/segm/MFGTMPcx7_170521130001_H13f03d0.png is a low contrast image\n",
      "  warn('%s is a low contrast image' % fname)\n"
     ]
    },
    {
     "name": "stdout",
     "output_type": "stream",
     "text": [
      "MFGTMPcx7_170521130001_H15f06d0.png\n"
     ]
    },
    {
     "name": "stderr",
     "output_type": "stream",
     "text": [
      "C:\\Users\\salma\\.conda\\envs\\TF_1\\lib\\site-packages\\skimage\\io\\_io.py:140: UserWarning: ./MFGTMPcx7_170521130001/out/segm/MFGTMPcx7_170521130001_H15f06d0.png is a low contrast image\n",
      "  warn('%s is a low contrast image' % fname)\n"
     ]
    },
    {
     "name": "stdout",
     "output_type": "stream",
     "text": [
      "MFGTMPcx7_170521130001_H15f10d0.png\n"
     ]
    },
    {
     "name": "stderr",
     "output_type": "stream",
     "text": [
      "C:\\Users\\salma\\.conda\\envs\\TF_1\\lib\\site-packages\\skimage\\io\\_io.py:140: UserWarning: ./MFGTMPcx7_170521130001/out/segm/MFGTMPcx7_170521130001_H15f10d0.png is a low contrast image\n",
      "  warn('%s is a low contrast image' % fname)\n"
     ]
    },
    {
     "name": "stdout",
     "output_type": "stream",
     "text": [
      "MFGTMPcx7_170521130001_H17f01d0.png\n"
     ]
    },
    {
     "name": "stderr",
     "output_type": "stream",
     "text": [
      "C:\\Users\\salma\\.conda\\envs\\TF_1\\lib\\site-packages\\skimage\\io\\_io.py:140: UserWarning: ./MFGTMPcx7_170521130001/out/segm/MFGTMPcx7_170521130001_H17f01d0.png is a low contrast image\n",
      "  warn('%s is a low contrast image' % fname)\n",
      "C:\\Users\\salma\\.conda\\envs\\TF_1\\lib\\site-packages\\skimage\\io\\_io.py:140: UserWarning: ./MFGTMPcx7_170521130001/out/segm/MFGTMPcx7_170521130001_H23f11d0.png is a low contrast image\n",
      "  warn('%s is a low contrast image' % fname)\n"
     ]
    },
    {
     "name": "stdout",
     "output_type": "stream",
     "text": [
      "MFGTMPcx7_170521130001_H23f11d0.png\n",
      "MFGTMPcx7_170521130001_I11f10d0.png\n"
     ]
    },
    {
     "name": "stderr",
     "output_type": "stream",
     "text": [
      "C:\\Users\\salma\\.conda\\envs\\TF_1\\lib\\site-packages\\skimage\\io\\_io.py:140: UserWarning: ./MFGTMPcx7_170521130001/out/segm/MFGTMPcx7_170521130001_I11f10d0.png is a low contrast image\n",
      "  warn('%s is a low contrast image' % fname)\n"
     ]
    },
    {
     "name": "stdout",
     "output_type": "stream",
     "text": [
      "MFGTMPcx7_170521130001_I12f11d0.png\n"
     ]
    },
    {
     "name": "stderr",
     "output_type": "stream",
     "text": [
      "C:\\Users\\salma\\.conda\\envs\\TF_1\\lib\\site-packages\\skimage\\io\\_io.py:140: UserWarning: ./MFGTMPcx7_170521130001/out/segm/MFGTMPcx7_170521130001_I12f11d0.png is a low contrast image\n",
      "  warn('%s is a low contrast image' % fname)\n"
     ]
    },
    {
     "name": "stdout",
     "output_type": "stream",
     "text": [
      "MFGTMPcx7_170521130001_I19f06d0.png\n"
     ]
    },
    {
     "name": "stderr",
     "output_type": "stream",
     "text": [
      "C:\\Users\\salma\\.conda\\envs\\TF_1\\lib\\site-packages\\skimage\\io\\_io.py:140: UserWarning: ./MFGTMPcx7_170521130001/out/segm/MFGTMPcx7_170521130001_I19f06d0.png is a low contrast image\n",
      "  warn('%s is a low contrast image' % fname)\n"
     ]
    },
    {
     "name": "stdout",
     "output_type": "stream",
     "text": [
      "MFGTMPcx7_170521130001_J02f13d0.png\n"
     ]
    },
    {
     "name": "stderr",
     "output_type": "stream",
     "text": [
      "C:\\Users\\salma\\.conda\\envs\\TF_1\\lib\\site-packages\\skimage\\io\\_io.py:140: UserWarning: ./MFGTMPcx7_170521130001/out/segm/MFGTMPcx7_170521130001_J02f13d0.png is a low contrast image\n",
      "  warn('%s is a low contrast image' % fname)\n"
     ]
    },
    {
     "name": "stdout",
     "output_type": "stream",
     "text": [
      "MFGTMPcx7_170521130001_J03f07d0.png\n"
     ]
    },
    {
     "name": "stderr",
     "output_type": "stream",
     "text": [
      "C:\\Users\\salma\\.conda\\envs\\TF_1\\lib\\site-packages\\skimage\\io\\_io.py:140: UserWarning: ./MFGTMPcx7_170521130001/out/segm/MFGTMPcx7_170521130001_J03f07d0.png is a low contrast image\n",
      "  warn('%s is a low contrast image' % fname)\n"
     ]
    },
    {
     "name": "stdout",
     "output_type": "stream",
     "text": [
      "MFGTMPcx7_170521130001_J04f13d0.png\n"
     ]
    },
    {
     "name": "stderr",
     "output_type": "stream",
     "text": [
      "C:\\Users\\salma\\.conda\\envs\\TF_1\\lib\\site-packages\\skimage\\io\\_io.py:140: UserWarning: ./MFGTMPcx7_170521130001/out/segm/MFGTMPcx7_170521130001_J04f13d0.png is a low contrast image\n",
      "  warn('%s is a low contrast image' % fname)\n"
     ]
    },
    {
     "name": "stdout",
     "output_type": "stream",
     "text": [
      "MFGTMPcx7_170521130001_J05f10d0.png\n"
     ]
    },
    {
     "name": "stderr",
     "output_type": "stream",
     "text": [
      "C:\\Users\\salma\\.conda\\envs\\TF_1\\lib\\site-packages\\skimage\\io\\_io.py:140: UserWarning: ./MFGTMPcx7_170521130001/out/segm/MFGTMPcx7_170521130001_J05f10d0.png is a low contrast image\n",
      "  warn('%s is a low contrast image' % fname)\n"
     ]
    },
    {
     "name": "stdout",
     "output_type": "stream",
     "text": [
      "MFGTMPcx7_170521130001_J06f13d0.png\n"
     ]
    },
    {
     "name": "stderr",
     "output_type": "stream",
     "text": [
      "C:\\Users\\salma\\.conda\\envs\\TF_1\\lib\\site-packages\\skimage\\io\\_io.py:140: UserWarning: ./MFGTMPcx7_170521130001/out/segm/MFGTMPcx7_170521130001_J06f13d0.png is a low contrast image\n",
      "  warn('%s is a low contrast image' % fname)\n"
     ]
    },
    {
     "name": "stdout",
     "output_type": "stream",
     "text": [
      "MFGTMPcx7_170521130001_J13f13d0.png\n"
     ]
    },
    {
     "name": "stderr",
     "output_type": "stream",
     "text": [
      "C:\\Users\\salma\\.conda\\envs\\TF_1\\lib\\site-packages\\skimage\\io\\_io.py:140: UserWarning: ./MFGTMPcx7_170521130001/out/segm/MFGTMPcx7_170521130001_J13f13d0.png is a low contrast image\n",
      "  warn('%s is a low contrast image' % fname)\n"
     ]
    },
    {
     "name": "stdout",
     "output_type": "stream",
     "text": [
      "MFGTMPcx7_170521130001_K01f13d0.png\n"
     ]
    },
    {
     "name": "stderr",
     "output_type": "stream",
     "text": [
      "C:\\Users\\salma\\.conda\\envs\\TF_1\\lib\\site-packages\\skimage\\io\\_io.py:140: UserWarning: ./MFGTMPcx7_170521130001/out/segm/MFGTMPcx7_170521130001_K01f13d0.png is a low contrast image\n",
      "  warn('%s is a low contrast image' % fname)\n"
     ]
    },
    {
     "name": "stdout",
     "output_type": "stream",
     "text": [
      "MFGTMPcx7_170521130001_K01f14d0.png\n"
     ]
    },
    {
     "name": "stderr",
     "output_type": "stream",
     "text": [
      "C:\\Users\\salma\\.conda\\envs\\TF_1\\lib\\site-packages\\skimage\\io\\_io.py:140: UserWarning: ./MFGTMPcx7_170521130001/out/segm/MFGTMPcx7_170521130001_K01f14d0.png is a low contrast image\n",
      "  warn('%s is a low contrast image' % fname)\n"
     ]
    },
    {
     "name": "stdout",
     "output_type": "stream",
     "text": [
      "MFGTMPcx7_170521130001_K04f11d0.png\n"
     ]
    },
    {
     "name": "stderr",
     "output_type": "stream",
     "text": [
      "C:\\Users\\salma\\.conda\\envs\\TF_1\\lib\\site-packages\\skimage\\io\\_io.py:140: UserWarning: ./MFGTMPcx7_170521130001/out/segm/MFGTMPcx7_170521130001_K04f11d0.png is a low contrast image\n",
      "  warn('%s is a low contrast image' % fname)\n"
     ]
    },
    {
     "name": "stdout",
     "output_type": "stream",
     "text": [
      "MFGTMPcx7_170521130001_K06f09d0.png\n"
     ]
    },
    {
     "name": "stderr",
     "output_type": "stream",
     "text": [
      "C:\\Users\\salma\\.conda\\envs\\TF_1\\lib\\site-packages\\skimage\\io\\_io.py:140: UserWarning: ./MFGTMPcx7_170521130001/out/segm/MFGTMPcx7_170521130001_K06f09d0.png is a low contrast image\n",
      "  warn('%s is a low contrast image' % fname)\n"
     ]
    },
    {
     "name": "stdout",
     "output_type": "stream",
     "text": [
      "MFGTMPcx7_170521130001_K06f10d0.png\n"
     ]
    },
    {
     "name": "stderr",
     "output_type": "stream",
     "text": [
      "C:\\Users\\salma\\.conda\\envs\\TF_1\\lib\\site-packages\\skimage\\io\\_io.py:140: UserWarning: ./MFGTMPcx7_170521130001/out/segm/MFGTMPcx7_170521130001_K06f10d0.png is a low contrast image\n",
      "  warn('%s is a low contrast image' % fname)\n"
     ]
    },
    {
     "name": "stdout",
     "output_type": "stream",
     "text": [
      "MFGTMPcx7_170521130001_K11f13d0.png\n"
     ]
    },
    {
     "name": "stderr",
     "output_type": "stream",
     "text": [
      "C:\\Users\\salma\\.conda\\envs\\TF_1\\lib\\site-packages\\skimage\\io\\_io.py:140: UserWarning: ./MFGTMPcx7_170521130001/out/segm/MFGTMPcx7_170521130001_K11f13d0.png is a low contrast image\n",
      "  warn('%s is a low contrast image' % fname)\n"
     ]
    },
    {
     "name": "stdout",
     "output_type": "stream",
     "text": [
      "MFGTMPcx7_170521130001_K15f03d0.png\n"
     ]
    },
    {
     "name": "stderr",
     "output_type": "stream",
     "text": [
      "C:\\Users\\salma\\.conda\\envs\\TF_1\\lib\\site-packages\\skimage\\io\\_io.py:140: UserWarning: ./MFGTMPcx7_170521130001/out/segm/MFGTMPcx7_170521130001_K15f03d0.png is a low contrast image\n",
      "  warn('%s is a low contrast image' % fname)\n"
     ]
    },
    {
     "name": "stdout",
     "output_type": "stream",
     "text": [
      "MFGTMPcx7_170521130001_K15f14d0.png\n"
     ]
    },
    {
     "name": "stderr",
     "output_type": "stream",
     "text": [
      "C:\\Users\\salma\\.conda\\envs\\TF_1\\lib\\site-packages\\skimage\\io\\_io.py:140: UserWarning: ./MFGTMPcx7_170521130001/out/segm/MFGTMPcx7_170521130001_K15f14d0.png is a low contrast image\n",
      "  warn('%s is a low contrast image' % fname)\n"
     ]
    },
    {
     "name": "stdout",
     "output_type": "stream",
     "text": [
      "MFGTMPcx7_170521130001_K17f06d0.png\n"
     ]
    },
    {
     "name": "stderr",
     "output_type": "stream",
     "text": [
      "C:\\Users\\salma\\.conda\\envs\\TF_1\\lib\\site-packages\\skimage\\io\\_io.py:140: UserWarning: ./MFGTMPcx7_170521130001/out/segm/MFGTMPcx7_170521130001_K17f06d0.png is a low contrast image\n",
      "  warn('%s is a low contrast image' % fname)\n"
     ]
    },
    {
     "name": "stdout",
     "output_type": "stream",
     "text": [
      "MFGTMPcx7_170521130001_K17f09d0.png\n"
     ]
    },
    {
     "name": "stderr",
     "output_type": "stream",
     "text": [
      "C:\\Users\\salma\\.conda\\envs\\TF_1\\lib\\site-packages\\skimage\\io\\_io.py:140: UserWarning: ./MFGTMPcx7_170521130001/out/segm/MFGTMPcx7_170521130001_K17f09d0.png is a low contrast image\n",
      "  warn('%s is a low contrast image' % fname)\n"
     ]
    },
    {
     "name": "stdout",
     "output_type": "stream",
     "text": [
      "MFGTMPcx7_170521130001_K22f15d0.png\n"
     ]
    },
    {
     "name": "stderr",
     "output_type": "stream",
     "text": [
      "C:\\Users\\salma\\.conda\\envs\\TF_1\\lib\\site-packages\\skimage\\io\\_io.py:140: UserWarning: ./MFGTMPcx7_170521130001/out/segm/MFGTMPcx7_170521130001_K22f15d0.png is a low contrast image\n",
      "  warn('%s is a low contrast image' % fname)\n"
     ]
    },
    {
     "name": "stdout",
     "output_type": "stream",
     "text": [
      "MFGTMPcx7_170521130001_K23f03d0.png\n"
     ]
    },
    {
     "name": "stderr",
     "output_type": "stream",
     "text": [
      "C:\\Users\\salma\\.conda\\envs\\TF_1\\lib\\site-packages\\skimage\\io\\_io.py:140: UserWarning: ./MFGTMPcx7_170521130001/out/segm/MFGTMPcx7_170521130001_K23f03d0.png is a low contrast image\n",
      "  warn('%s is a low contrast image' % fname)\n"
     ]
    },
    {
     "name": "stdout",
     "output_type": "stream",
     "text": [
      "MFGTMPcx7_170521130001_L05f05d0.png\n"
     ]
    },
    {
     "name": "stderr",
     "output_type": "stream",
     "text": [
      "C:\\Users\\salma\\.conda\\envs\\TF_1\\lib\\site-packages\\skimage\\io\\_io.py:140: UserWarning: ./MFGTMPcx7_170521130001/out/segm/MFGTMPcx7_170521130001_L05f05d0.png is a low contrast image\n",
      "  warn('%s is a low contrast image' % fname)\n"
     ]
    },
    {
     "name": "stdout",
     "output_type": "stream",
     "text": [
      "MFGTMPcx7_170521130001_L05f07d0.png\n"
     ]
    },
    {
     "name": "stderr",
     "output_type": "stream",
     "text": [
      "C:\\Users\\salma\\.conda\\envs\\TF_1\\lib\\site-packages\\skimage\\io\\_io.py:140: UserWarning: ./MFGTMPcx7_170521130001/out/segm/MFGTMPcx7_170521130001_L05f07d0.png is a low contrast image\n",
      "  warn('%s is a low contrast image' % fname)\n"
     ]
    },
    {
     "name": "stdout",
     "output_type": "stream",
     "text": [
      "MFGTMPcx7_170521130001_L07f00d0.png\n"
     ]
    },
    {
     "name": "stderr",
     "output_type": "stream",
     "text": [
      "C:\\Users\\salma\\.conda\\envs\\TF_1\\lib\\site-packages\\skimage\\io\\_io.py:140: UserWarning: ./MFGTMPcx7_170521130001/out/segm/MFGTMPcx7_170521130001_L07f00d0.png is a low contrast image\n",
      "  warn('%s is a low contrast image' % fname)\n"
     ]
    },
    {
     "name": "stdout",
     "output_type": "stream",
     "text": [
      "MFGTMPcx7_170521130001_L07f11d0.png\n"
     ]
    },
    {
     "name": "stderr",
     "output_type": "stream",
     "text": [
      "C:\\Users\\salma\\.conda\\envs\\TF_1\\lib\\site-packages\\skimage\\io\\_io.py:140: UserWarning: ./MFGTMPcx7_170521130001/out/segm/MFGTMPcx7_170521130001_L07f11d0.png is a low contrast image\n",
      "  warn('%s is a low contrast image' % fname)\n"
     ]
    },
    {
     "name": "stdout",
     "output_type": "stream",
     "text": [
      "MFGTMPcx7_170521130001_L07f15d0.png\n"
     ]
    },
    {
     "name": "stderr",
     "output_type": "stream",
     "text": [
      "C:\\Users\\salma\\.conda\\envs\\TF_1\\lib\\site-packages\\skimage\\io\\_io.py:140: UserWarning: ./MFGTMPcx7_170521130001/out/segm/MFGTMPcx7_170521130001_L07f15d0.png is a low contrast image\n",
      "  warn('%s is a low contrast image' % fname)\n"
     ]
    },
    {
     "name": "stdout",
     "output_type": "stream",
     "text": [
      "MFGTMPcx7_170521130001_L09f05d0.png\n"
     ]
    },
    {
     "name": "stderr",
     "output_type": "stream",
     "text": [
      "C:\\Users\\salma\\.conda\\envs\\TF_1\\lib\\site-packages\\skimage\\io\\_io.py:140: UserWarning: ./MFGTMPcx7_170521130001/out/segm/MFGTMPcx7_170521130001_L09f05d0.png is a low contrast image\n",
      "  warn('%s is a low contrast image' % fname)\n"
     ]
    },
    {
     "name": "stdout",
     "output_type": "stream",
     "text": [
      "MFGTMPcx7_170521130001_L18f02d0.png\n"
     ]
    },
    {
     "name": "stderr",
     "output_type": "stream",
     "text": [
      "C:\\Users\\salma\\.conda\\envs\\TF_1\\lib\\site-packages\\skimage\\io\\_io.py:140: UserWarning: ./MFGTMPcx7_170521130001/out/segm/MFGTMPcx7_170521130001_L18f02d0.png is a low contrast image\n",
      "  warn('%s is a low contrast image' % fname)\n"
     ]
    },
    {
     "name": "stdout",
     "output_type": "stream",
     "text": [
      "MFGTMPcx7_170521130001_M02f08d0.png\n"
     ]
    },
    {
     "name": "stderr",
     "output_type": "stream",
     "text": [
      "C:\\Users\\salma\\.conda\\envs\\TF_1\\lib\\site-packages\\skimage\\io\\_io.py:140: UserWarning: ./MFGTMPcx7_170521130001/out/segm/MFGTMPcx7_170521130001_M02f08d0.png is a low contrast image\n",
      "  warn('%s is a low contrast image' % fname)\n"
     ]
    },
    {
     "name": "stdout",
     "output_type": "stream",
     "text": [
      "MFGTMPcx7_170521130001_M07f00d0.png\n"
     ]
    },
    {
     "name": "stderr",
     "output_type": "stream",
     "text": [
      "C:\\Users\\salma\\.conda\\envs\\TF_1\\lib\\site-packages\\skimage\\io\\_io.py:140: UserWarning: ./MFGTMPcx7_170521130001/out/segm/MFGTMPcx7_170521130001_M07f00d0.png is a low contrast image\n",
      "  warn('%s is a low contrast image' % fname)\n"
     ]
    },
    {
     "name": "stdout",
     "output_type": "stream",
     "text": [
      "MFGTMPcx7_170521130001_M07f12d0.png\n"
     ]
    },
    {
     "name": "stderr",
     "output_type": "stream",
     "text": [
      "C:\\Users\\salma\\.conda\\envs\\TF_1\\lib\\site-packages\\skimage\\io\\_io.py:140: UserWarning: ./MFGTMPcx7_170521130001/out/segm/MFGTMPcx7_170521130001_M07f12d0.png is a low contrast image\n",
      "  warn('%s is a low contrast image' % fname)\n"
     ]
    },
    {
     "name": "stdout",
     "output_type": "stream",
     "text": [
      "MFGTMPcx7_170521130001_M08f13d0.png\n"
     ]
    },
    {
     "name": "stderr",
     "output_type": "stream",
     "text": [
      "C:\\Users\\salma\\.conda\\envs\\TF_1\\lib\\site-packages\\skimage\\io\\_io.py:140: UserWarning: ./MFGTMPcx7_170521130001/out/segm/MFGTMPcx7_170521130001_M08f13d0.png is a low contrast image\n",
      "  warn('%s is a low contrast image' % fname)\n"
     ]
    },
    {
     "name": "stdout",
     "output_type": "stream",
     "text": [
      "MFGTMPcx7_170521130001_M09f10d0.png\n"
     ]
    },
    {
     "name": "stderr",
     "output_type": "stream",
     "text": [
      "C:\\Users\\salma\\.conda\\envs\\TF_1\\lib\\site-packages\\skimage\\io\\_io.py:140: UserWarning: ./MFGTMPcx7_170521130001/out/segm/MFGTMPcx7_170521130001_M09f10d0.png is a low contrast image\n",
      "  warn('%s is a low contrast image' % fname)\n"
     ]
    },
    {
     "name": "stdout",
     "output_type": "stream",
     "text": [
      "MFGTMPcx7_170521130001_M10f03d0.png\n"
     ]
    },
    {
     "name": "stderr",
     "output_type": "stream",
     "text": [
      "C:\\Users\\salma\\.conda\\envs\\TF_1\\lib\\site-packages\\skimage\\io\\_io.py:140: UserWarning: ./MFGTMPcx7_170521130001/out/segm/MFGTMPcx7_170521130001_M10f03d0.png is a low contrast image\n",
      "  warn('%s is a low contrast image' % fname)\n"
     ]
    },
    {
     "name": "stdout",
     "output_type": "stream",
     "text": [
      "MFGTMPcx7_170521130001_M12f12d0.png\n"
     ]
    },
    {
     "name": "stderr",
     "output_type": "stream",
     "text": [
      "C:\\Users\\salma\\.conda\\envs\\TF_1\\lib\\site-packages\\skimage\\io\\_io.py:140: UserWarning: ./MFGTMPcx7_170521130001/out/segm/MFGTMPcx7_170521130001_M12f12d0.png is a low contrast image\n",
      "  warn('%s is a low contrast image' % fname)\n"
     ]
    },
    {
     "name": "stdout",
     "output_type": "stream",
     "text": [
      "MFGTMPcx7_170521130001_M13f15d0.png\n"
     ]
    },
    {
     "name": "stderr",
     "output_type": "stream",
     "text": [
      "C:\\Users\\salma\\.conda\\envs\\TF_1\\lib\\site-packages\\skimage\\io\\_io.py:140: UserWarning: ./MFGTMPcx7_170521130001/out/segm/MFGTMPcx7_170521130001_M13f15d0.png is a low contrast image\n",
      "  warn('%s is a low contrast image' % fname)\n"
     ]
    },
    {
     "name": "stdout",
     "output_type": "stream",
     "text": [
      "MFGTMPcx7_170521130001_M15f11d0.png\n"
     ]
    },
    {
     "name": "stderr",
     "output_type": "stream",
     "text": [
      "C:\\Users\\salma\\.conda\\envs\\TF_1\\lib\\site-packages\\skimage\\io\\_io.py:140: UserWarning: ./MFGTMPcx7_170521130001/out/segm/MFGTMPcx7_170521130001_M15f11d0.png is a low contrast image\n",
      "  warn('%s is a low contrast image' % fname)\n"
     ]
    },
    {
     "name": "stdout",
     "output_type": "stream",
     "text": [
      "MFGTMPcx7_170521130001_M16f05d0.png\n"
     ]
    },
    {
     "name": "stderr",
     "output_type": "stream",
     "text": [
      "C:\\Users\\salma\\.conda\\envs\\TF_1\\lib\\site-packages\\skimage\\io\\_io.py:140: UserWarning: ./MFGTMPcx7_170521130001/out/segm/MFGTMPcx7_170521130001_M16f05d0.png is a low contrast image\n",
      "  warn('%s is a low contrast image' % fname)\n"
     ]
    },
    {
     "name": "stdout",
     "output_type": "stream",
     "text": [
      "MFGTMPcx7_170521130001_N08f06d0.png\n"
     ]
    },
    {
     "name": "stderr",
     "output_type": "stream",
     "text": [
      "C:\\Users\\salma\\.conda\\envs\\TF_1\\lib\\site-packages\\skimage\\io\\_io.py:140: UserWarning: ./MFGTMPcx7_170521130001/out/segm/MFGTMPcx7_170521130001_N08f06d0.png is a low contrast image\n",
      "  warn('%s is a low contrast image' % fname)\n"
     ]
    },
    {
     "name": "stdout",
     "output_type": "stream",
     "text": [
      "MFGTMPcx7_170521130001_N09f15d0.png\n"
     ]
    },
    {
     "name": "stderr",
     "output_type": "stream",
     "text": [
      "C:\\Users\\salma\\.conda\\envs\\TF_1\\lib\\site-packages\\skimage\\io\\_io.py:140: UserWarning: ./MFGTMPcx7_170521130001/out/segm/MFGTMPcx7_170521130001_N09f15d0.png is a low contrast image\n",
      "  warn('%s is a low contrast image' % fname)\n"
     ]
    },
    {
     "name": "stdout",
     "output_type": "stream",
     "text": [
      "MFGTMPcx7_170521130001_N12f07d0.png\n"
     ]
    },
    {
     "name": "stderr",
     "output_type": "stream",
     "text": [
      "C:\\Users\\salma\\.conda\\envs\\TF_1\\lib\\site-packages\\skimage\\io\\_io.py:140: UserWarning: ./MFGTMPcx7_170521130001/out/segm/MFGTMPcx7_170521130001_N12f07d0.png is a low contrast image\n",
      "  warn('%s is a low contrast image' % fname)\n"
     ]
    },
    {
     "name": "stdout",
     "output_type": "stream",
     "text": [
      "MFGTMPcx7_170521130001_N14f07d0.png\n"
     ]
    },
    {
     "name": "stderr",
     "output_type": "stream",
     "text": [
      "C:\\Users\\salma\\.conda\\envs\\TF_1\\lib\\site-packages\\skimage\\io\\_io.py:140: UserWarning: ./MFGTMPcx7_170521130001/out/segm/MFGTMPcx7_170521130001_N14f07d0.png is a low contrast image\n",
      "  warn('%s is a low contrast image' % fname)\n"
     ]
    },
    {
     "name": "stdout",
     "output_type": "stream",
     "text": [
      "MFGTMPcx7_170521130001_N15f02d0.png\n"
     ]
    },
    {
     "name": "stderr",
     "output_type": "stream",
     "text": [
      "C:\\Users\\salma\\.conda\\envs\\TF_1\\lib\\site-packages\\skimage\\io\\_io.py:140: UserWarning: ./MFGTMPcx7_170521130001/out/segm/MFGTMPcx7_170521130001_N15f02d0.png is a low contrast image\n",
      "  warn('%s is a low contrast image' % fname)\n"
     ]
    },
    {
     "name": "stdout",
     "output_type": "stream",
     "text": [
      "MFGTMPcx7_170521130001_N17f04d0.png\n"
     ]
    },
    {
     "name": "stderr",
     "output_type": "stream",
     "text": [
      "C:\\Users\\salma\\.conda\\envs\\TF_1\\lib\\site-packages\\skimage\\io\\_io.py:140: UserWarning: ./MFGTMPcx7_170521130001/out/segm/MFGTMPcx7_170521130001_N17f04d0.png is a low contrast image\n",
      "  warn('%s is a low contrast image' % fname)\n"
     ]
    },
    {
     "name": "stdout",
     "output_type": "stream",
     "text": [
      "MFGTMPcx7_170521130001_O04f03d0.png\n"
     ]
    },
    {
     "name": "stderr",
     "output_type": "stream",
     "text": [
      "C:\\Users\\salma\\.conda\\envs\\TF_1\\lib\\site-packages\\skimage\\io\\_io.py:140: UserWarning: ./MFGTMPcx7_170521130001/out/segm/MFGTMPcx7_170521130001_O04f03d0.png is a low contrast image\n",
      "  warn('%s is a low contrast image' % fname)\n"
     ]
    },
    {
     "name": "stdout",
     "output_type": "stream",
     "text": [
      "MFGTMPcx7_170521130001_O07f10d0.png\n"
     ]
    },
    {
     "name": "stderr",
     "output_type": "stream",
     "text": [
      "C:\\Users\\salma\\.conda\\envs\\TF_1\\lib\\site-packages\\skimage\\io\\_io.py:140: UserWarning: ./MFGTMPcx7_170521130001/out/segm/MFGTMPcx7_170521130001_O07f10d0.png is a low contrast image\n",
      "  warn('%s is a low contrast image' % fname)\n"
     ]
    },
    {
     "name": "stdout",
     "output_type": "stream",
     "text": [
      "MFGTMPcx7_170521130001_O07f13d0.png\n"
     ]
    },
    {
     "name": "stderr",
     "output_type": "stream",
     "text": [
      "C:\\Users\\salma\\.conda\\envs\\TF_1\\lib\\site-packages\\skimage\\io\\_io.py:140: UserWarning: ./MFGTMPcx7_170521130001/out/segm/MFGTMPcx7_170521130001_O07f13d0.png is a low contrast image\n",
      "  warn('%s is a low contrast image' % fname)\n"
     ]
    },
    {
     "name": "stdout",
     "output_type": "stream",
     "text": [
      "MFGTMPcx7_170521130001_O15f01d0.png\n"
     ]
    },
    {
     "name": "stderr",
     "output_type": "stream",
     "text": [
      "C:\\Users\\salma\\.conda\\envs\\TF_1\\lib\\site-packages\\skimage\\io\\_io.py:140: UserWarning: ./MFGTMPcx7_170521130001/out/segm/MFGTMPcx7_170521130001_O15f01d0.png is a low contrast image\n",
      "  warn('%s is a low contrast image' % fname)\n"
     ]
    },
    {
     "name": "stdout",
     "output_type": "stream",
     "text": [
      "MFGTMPcx7_170521130001_O15f05d0.png\n"
     ]
    },
    {
     "name": "stderr",
     "output_type": "stream",
     "text": [
      "C:\\Users\\salma\\.conda\\envs\\TF_1\\lib\\site-packages\\skimage\\io\\_io.py:140: UserWarning: ./MFGTMPcx7_170521130001/out/segm/MFGTMPcx7_170521130001_O15f05d0.png is a low contrast image\n",
      "  warn('%s is a low contrast image' % fname)\n"
     ]
    },
    {
     "name": "stdout",
     "output_type": "stream",
     "text": [
      "MFGTMPcx7_170521130001_O17f11d0.png\n"
     ]
    },
    {
     "name": "stderr",
     "output_type": "stream",
     "text": [
      "C:\\Users\\salma\\.conda\\envs\\TF_1\\lib\\site-packages\\skimage\\io\\_io.py:140: UserWarning: ./MFGTMPcx7_170521130001/out/segm/MFGTMPcx7_170521130001_O17f11d0.png is a low contrast image\n",
      "  warn('%s is a low contrast image' % fname)\n"
     ]
    },
    {
     "name": "stdout",
     "output_type": "stream",
     "text": [
      "MFGTMPcx7_170521130001_O21f00d0.png\n"
     ]
    },
    {
     "name": "stderr",
     "output_type": "stream",
     "text": [
      "C:\\Users\\salma\\.conda\\envs\\TF_1\\lib\\site-packages\\skimage\\io\\_io.py:140: UserWarning: ./MFGTMPcx7_170521130001/out/segm/MFGTMPcx7_170521130001_O21f00d0.png is a low contrast image\n",
      "  warn('%s is a low contrast image' % fname)\n"
     ]
    },
    {
     "name": "stdout",
     "output_type": "stream",
     "text": [
      "MFGTMPcx7_170521130001_O22f03d0.png\n"
     ]
    },
    {
     "name": "stderr",
     "output_type": "stream",
     "text": [
      "C:\\Users\\salma\\.conda\\envs\\TF_1\\lib\\site-packages\\skimage\\io\\_io.py:140: UserWarning: ./MFGTMPcx7_170521130001/out/segm/MFGTMPcx7_170521130001_O22f03d0.png is a low contrast image\n",
      "  warn('%s is a low contrast image' % fname)\n"
     ]
    },
    {
     "name": "stdout",
     "output_type": "stream",
     "text": [
      "MFGTMPcx7_170521130001_P11f07d0.png\n"
     ]
    },
    {
     "name": "stderr",
     "output_type": "stream",
     "text": [
      "C:\\Users\\salma\\.conda\\envs\\TF_1\\lib\\site-packages\\skimage\\io\\_io.py:140: UserWarning: ./MFGTMPcx7_170521130001/out/segm/MFGTMPcx7_170521130001_P11f07d0.png is a low contrast image\n",
      "  warn('%s is a low contrast image' % fname)\n"
     ]
    },
    {
     "name": "stdout",
     "output_type": "stream",
     "text": [
      "MFGTMPcx7_170521130001_P14f06d0.png\n"
     ]
    },
    {
     "name": "stderr",
     "output_type": "stream",
     "text": [
      "C:\\Users\\salma\\.conda\\envs\\TF_1\\lib\\site-packages\\skimage\\io\\_io.py:140: UserWarning: ./MFGTMPcx7_170521130001/out/segm/MFGTMPcx7_170521130001_P14f06d0.png is a low contrast image\n",
      "  warn('%s is a low contrast image' % fname)\n"
     ]
    },
    {
     "name": "stdout",
     "output_type": "stream",
     "text": [
      "MFGTMPcx7_170521130001_P16f10d0.png\n"
     ]
    },
    {
     "name": "stderr",
     "output_type": "stream",
     "text": [
      "C:\\Users\\salma\\.conda\\envs\\TF_1\\lib\\site-packages\\skimage\\io\\_io.py:140: UserWarning: ./MFGTMPcx7_170521130001/out/segm/MFGTMPcx7_170521130001_P16f10d0.png is a low contrast image\n",
      "  warn('%s is a low contrast image' % fname)\n"
     ]
    },
    {
     "name": "stdout",
     "output_type": "stream",
     "text": [
      "MFGTMPcx7_170521130001_P18f04d0.png\n"
     ]
    },
    {
     "name": "stderr",
     "output_type": "stream",
     "text": [
      "C:\\Users\\salma\\.conda\\envs\\TF_1\\lib\\site-packages\\skimage\\io\\_io.py:140: UserWarning: ./MFGTMPcx7_170521130001/out/segm/MFGTMPcx7_170521130001_P18f04d0.png is a low contrast image\n",
      "  warn('%s is a low contrast image' % fname)\n"
     ]
    },
    {
     "name": "stdout",
     "output_type": "stream",
     "text": [
      "MFGTMPcx7_170521130001_P18f06d0.png\n"
     ]
    },
    {
     "name": "stderr",
     "output_type": "stream",
     "text": [
      "C:\\Users\\salma\\.conda\\envs\\TF_1\\lib\\site-packages\\skimage\\io\\_io.py:140: UserWarning: ./MFGTMPcx7_170521130001/out/segm/MFGTMPcx7_170521130001_P18f06d0.png is a low contrast image\n",
      "  warn('%s is a low contrast image' % fname)\n"
     ]
    }
   ],
   "source": [
    "#!/usr/bin/env python\n",
    "# coding: utf-8\n",
    "\n",
    "# # Step 03\n",
    "# # Predict segmentations\n",
    "\n",
    "import os\n",
    "import os.path\n",
    "import skimage.io\n",
    "import skimage.morphology\n",
    "import tensorflow as tf\n",
    "import utils.dirtools\n",
    "import utils.metrics\n",
    "import utils.model_builder\n",
    "from config import config_vars\n",
    "from skimage import img_as_ubyte\n",
    "import numpy as np\n",
    "import glob\n",
    "#import cv2\n",
    "\n",
    "# # Configuration\n",
    "\n",
    "#%%\n",
    "\n",
    "# Partition of the data to make predictions (test or validation)\n",
    "partition = \"test\"\n",
    "\n",
    "experiment_name = 'MFGTMPcx7_170521130001'\n",
    "\n",
    "config_vars = utils.dirtools.setup_experiment(config_vars, experiment_name)\n",
    "\n",
    "data_partitions = utils.dirtools.read_data_partitions(config_vars)\n",
    "\n",
    "print(data_partitions[partition])\n",
    "\n",
    "\n",
    "# In[4]:\n",
    "\n",
    "\n",
    "# Device configuration\n",
    "\n",
    "# Configuration to run on GPU\n",
    "#import timeit\n",
    "\n",
    "#start = timeit.default_timer()\n",
    "\n",
    "\n",
    "#       inter_op_parallelism_threads=1)\n",
    "\n",
    "# Configuration to run on GPU\n",
    "'''\n",
    "configuration = tf.compat.v1.ConfigProto()\n",
    "configuration.gpu_options.allow_growth = False\n",
    "configuration.gpu_options.visible_device_list = \"0\"\n",
    "session = tf.compat.v1.Session(config = configuration)\n",
    "tf.compat.v1.keras.backend.set_session(session)\n",
    "'''\n",
    "#stop = timeit.default_timer()\n",
    "#print('GPU set up: ', stop - start)\n",
    "\n",
    "#with tf.compat.v1.Session() as sess:\n",
    "#    devices = sess.list_devices()\n",
    "#    print('devicessssssssssssssssssssssssssssssss',devices)\n",
    "#global graph\n",
    "#graph = tf.get_default_graph()\n",
    "\n",
    "\n",
    "import tensorflow as tf \n",
    "\n",
    "if tf.test.gpu_device_name(): \n",
    "\n",
    "    print('Default GPU Device:{}'.format(tf.test.gpu_device_name()))\n",
    "\n",
    "else:\n",
    "\n",
    "   print(\"Please install GPU version of TF\")\n",
    "#from keras import backend as K\n",
    "from keras.backend import clear_session\n",
    "\n",
    "\n",
    "\n",
    "#####################################################################\n",
    "def prediction_images(image_names):\n",
    "    \n",
    "    imagebuffer = skimage.io.imread_collection(image_names)\n",
    "\n",
    "    images = imagebuffer.concatenate()\n",
    "\n",
    "    \n",
    "\n",
    "    dim1 = images.shape[1]\n",
    "    dim2 = images.shape[2]\n",
    "\n",
    "    images = images.reshape((-1, dim1, dim2,1))# config_vars[\"input_dimensions\"]))\n",
    "\n",
    "    # preprocess (assuming images are encoded as 8-bits in the preprocessing step)\n",
    "    images = images /100#255\n",
    "    \n",
    "    with graph.as_default():\n",
    "         predictions = model.predict(images, batch_size=1)\n",
    "    \n",
    "    print('after predicctionnnnnnnnnnnnnnnnnnnnnn')\n",
    "    for i in range(len(imagebuffer.files)):\n",
    "        filename_path = imagebuffer.files[i]\n",
    "        filename = os.path.basename(filename_path)\n",
    "        print(filename)\n",
    "    \n",
    "        probmap = predictions[i].squeeze()\n",
    "        \n",
    "    \n",
    "    \n",
    "        skimage.io.imsave(config_vars[\"probmap_out_dir\"] + filename, (probmap).astype(float))\n",
    "    \n",
    "        pred = utils.metrics.probmap_to_pred(probmap, \n",
    "                                         config_vars[\"boundary_boost_factor\"])\n",
    "\n",
    "\n",
    "    \n",
    "        label = utils.metrics.pred_to_label(pred,config_vars['cell_min_size'] )\n",
    "    \n",
    "\n",
    "    \n",
    "        save_flag = skimage.io.imsave(config_vars[\"labels_out_dir\"] + filename, (label).astype(int))\n",
    "\n",
    "    \n",
    "\n",
    "    return save_flag\n",
    "\n",
    "\n",
    "\n",
    "\n",
    "\n",
    "\n",
    "\n",
    "\n",
    "\n",
    "####################################################################\n",
    "from concurrent.futures import ProcessPoolExecutor, ThreadPoolExecutor, as_completed\n",
    "from multiprocessing import cpu_count\n",
    "\n",
    "\n",
    "\n",
    "##################################################################\n",
    "\n",
    "\n",
    "with open(config_vars[\"path_files_MFGTMPcx7_170521130001\"]) as image_list:\n",
    "    image_names_all = [os.path.join(config_vars[\"MFGTMPcx7_170521130001_dir\"], f.strip()) for f in image_list]\n",
    "\n",
    "print('imaaaaaaaaaaaaaaaaageeeeeeeeeeeeeeeeeeeeeeeeees done')\n",
    "clear_session()\n",
    "global model\n",
    "global graph\n",
    "\n",
    "model = utils.model_builder.get_model_3_class(1104, 1104,1)\n",
    "                                              #config_vars[\"input_dimensions\"])\n",
    "model.load_weights('model_14.hdf5')#config_vars[\"model_file\"]) \n",
    "\n",
    "model._make_predict_function()\n",
    "tf.Graph()\n",
    "graph = tf.get_default_graph()\n",
    "\n",
    "\n",
    "#print(model.summary())\n",
    "#CPU_LIMIT=128\n",
    "'''with ThreadPoolExecutor(min(CPU_LIMIT,cpu_count())) as executor:\n",
    "    print('befoooooooooooooooooore submit function')\n",
    "    futures=[executor.submit(prediction_images ,image_names_all[i_batch*16:(i_batch+1)*16]) for i_batch in range(384)]#range(len(image_names_all))] \n",
    "\n",
    "    for future in as_completed(futures):\n",
    "        res=future.result()\n",
    "        print('resssssssssssssuuuuuuuuuuuuuult: ',res)\n",
    "'''\n",
    "#test = [prediction_images(image_names_all[i_batch*2:(i_batch+1)*2]) for i_batch in range(2)]  ## use this if you do not want multi-threading\n",
    "test = prediction_images(image_names_all)  ## use this if you do not want multi-threading\n",
    "\n",
    "\n",
    "\n",
    "\n",
    "\n"
   ]
  }
 ],
 "metadata": {
  "kernelspec": {
   "display_name": "Python 3",
   "language": "python",
   "name": "python3"
  },
  "language_info": {
   "codemirror_mode": {
    "name": "ipython",
    "version": 3
   },
   "file_extension": ".py",
   "mimetype": "text/x-python",
   "name": "python",
   "nbconvert_exporter": "python",
   "pygments_lexer": "ipython3",
   "version": "3.6.13"
  }
 },
 "nbformat": 4,
 "nbformat_minor": 5
}
